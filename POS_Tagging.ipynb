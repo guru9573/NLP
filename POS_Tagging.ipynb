{
  "nbformat": 4,
  "nbformat_minor": 0,
  "metadata": {
    "colab": {
      "name": "POS-Tagging.ipynb",
      "provenance": [],
      "collapsed_sections": []
    },
    "kernelspec": {
      "name": "python3",
      "display_name": "Python 3"
    },
    "language_info": {
      "name": "python"
    }
  },
  "cells": [
    {
      "cell_type": "markdown",
      "metadata": {
        "id": "kIWC39fl9-6y"
      },
      "source": [
        "# Parts Of Speech Tagging\n",
        "* POS tagging is assignment of category tag to the tokenized parts of a sentence. Tags will be based on whethere word is noun/verb/adjective etc.\n",
        "* Tags will be assigned based on context and semantic meaning.\n",
        "* It helps to identify relationship between words"
      ]
    },
    {
      "cell_type": "markdown",
      "metadata": {
        "id": "oh0j1v_z_79D"
      },
      "source": [
        "## nltk"
      ]
    },
    {
      "cell_type": "code",
      "metadata": {
        "id": "dqQOWBjE8_kA"
      },
      "source": [
        "import nltk\n",
        "\n",
        "from nltk.tokenize import word_tokenize\n",
        "from nltk import pos_tag"
      ],
      "execution_count": 1,
      "outputs": []
    },
    {
      "cell_type": "code",
      "metadata": {
        "colab": {
          "base_uri": "https://localhost:8080/"
        },
        "id": "mh8GEsOL9Wea",
        "outputId": "b5d2a55a-7fbe-45e1-94af-0ca1efb1a2e4"
      },
      "source": [
        "nltk.download('punkt')\n",
        "nltk.download('averaged_perceptron_tagger')"
      ],
      "execution_count": 5,
      "outputs": [
        {
          "output_type": "stream",
          "text": [
            "[nltk_data] Downloading package punkt to /root/nltk_data...\n",
            "[nltk_data]   Unzipping tokenizers/punkt.zip.\n",
            "[nltk_data] Downloading package averaged_perceptron_tagger to\n",
            "[nltk_data]     /root/nltk_data...\n",
            "[nltk_data]   Package averaged_perceptron_tagger is already up-to-\n",
            "[nltk_data]       date!\n"
          ],
          "name": "stdout"
        },
        {
          "output_type": "execute_result",
          "data": {
            "text/plain": [
              "True"
            ]
          },
          "metadata": {},
          "execution_count": 5
        }
      ]
    },
    {
      "cell_type": "code",
      "metadata": {
        "id": "LRw5BaGq9b_l"
      },
      "source": [
        "def get_pos_tag(text):\n",
        "  word_tokens = word_tokenize(text)\n",
        "  return pos_tag(word_tokens)"
      ],
      "execution_count": 6,
      "outputs": []
    },
    {
      "cell_type": "code",
      "metadata": {
        "colab": {
          "base_uri": "https://localhost:8080/"
        },
        "id": "RpCUtGVq9qPv",
        "outputId": "7ecb9331-bea9-4682-8970-0e1daa19e2a4"
      },
      "source": [
        "input_text = \"Hey! how are you? are you doing good?\"\n",
        "\n",
        "get_pos_tag(input_text)"
      ],
      "execution_count": 7,
      "outputs": [
        {
          "output_type": "execute_result",
          "data": {
            "text/plain": [
              "[('Hey', 'NN'),\n",
              " ('!', '.'),\n",
              " ('how', 'WRB'),\n",
              " ('are', 'VBP'),\n",
              " ('you', 'PRP'),\n",
              " ('?', '.'),\n",
              " ('are', 'VBP'),\n",
              " ('you', 'PRP'),\n",
              " ('doing', 'VBG'),\n",
              " ('good', 'JJ'),\n",
              " ('?', '.')]"
            ]
          },
          "metadata": {},
          "execution_count": 7
        }
      ]
    },
    {
      "cell_type": "code",
      "metadata": {
        "colab": {
          "base_uri": "https://localhost:8080/",
          "height": 124
        },
        "id": "-7puW6bTBzuo",
        "outputId": "098794e6-f814-4a3d-935b-12be9bca3ecc"
      },
      "source": [
        "'''\n",
        "POS tag list:\n",
        "\n",
        "CC coordinating conjunction\n",
        "CD cardinal digit\n",
        "DT determiner\n",
        "EX existential there (like: \"there is\" ... think of it like \"there exists\")\n",
        "FW foreign word\n",
        "IN preposition/subordinating conjunction\n",
        "JJ adjective 'big'\n",
        "JJR adjective, comparative 'bigger'\n",
        "JJS adjective, superlative 'biggest'\n",
        "LS list marker 1)\n",
        "MD modal could, will\n",
        "NN noun, singular 'desk'\n",
        "NNS noun plural 'desks'\n",
        "NNP proper noun, singular 'Harrison'\n",
        "NNPS proper noun, plural 'Americans'\n",
        "PDT predeterminer 'all the kids'\n",
        "POS possessive ending parent's\n",
        "PRP personal pronoun I, he, she\n",
        "PRP$ possessive pronoun my, his, hers\n",
        "RB adverb very, silently,\n",
        "RBR adverb, comparative better\n",
        "RBS adverb, superlative best\n",
        "RP particle give up\n",
        "TO to go 'to' the store.\n",
        "UH interjection\n",
        "VB verb, base form take\n",
        "VBD verb, past tense took\n",
        "VBG verb, gerund/present participle taking\n",
        "VBN verb, past participle taken\n",
        "VBP verb, sing. present, non-3d take\n",
        "VBZ verb, 3rd person sing. present takes\n",
        "WDT wh-determiner which\n",
        "WP wh-pronoun who, what\n",
        "WP$ possessive wh-pronoun whose\n",
        "WRB wh-abverb where, when'''"
      ],
      "execution_count": 15,
      "outputs": [
        {
          "output_type": "execute_result",
          "data": {
            "application/vnd.google.colaboratory.intrinsic+json": {
              "type": "string"
            },
            "text/plain": [
              "'\\nPOS tag list:\\n\\nCC coordinating conjunction\\nCD cardinal digit\\nDT determiner\\nEX existential there (like: \"there is\" ... think of it like \"there exists\")\\nFW foreign word\\nIN preposition/subordinating conjunction\\nJJ adjective \\'big\\'\\nJJR adjective, comparative \\'bigger\\'\\nJJS adjective, superlative \\'biggest\\'\\nLS list marker 1)\\nMD modal could, will\\nNN noun, singular \\'desk\\'\\nNNS noun plural \\'desks\\'\\nNNP proper noun, singular \\'Harrison\\'\\nNNPS proper noun, plural \\'Americans\\'\\nPDT predeterminer \\'all the kids\\'\\nPOS possessive ending parent\\'s\\nPRP personal pronoun I, he, she\\nPRP$ possessive pronoun my, his, hers\\nRB adverb very, silently,\\nRBR adverb, comparative better\\nRBS adverb, superlative best\\nRP particle give up\\nTO to go \\'to\\' the store.\\nUH interjection\\nVB verb, base form take\\nVBD verb, past tense took\\nVBG verb, gerund/present participle taking\\nVBN verb, past participle taken\\nVBP verb, sing. present, non-3d take\\nVBZ verb, 3rd person sing. present takes\\nWDT wh-determiner which\\nWP wh-pronoun who, what\\nWP$ possessive wh-pronoun whose\\nWRB wh-abverb where, when'"
            ]
          },
          "metadata": {},
          "execution_count": 15
        }
      ]
    },
    {
      "cell_type": "markdown",
      "metadata": {
        "id": "bN66gsqKABEM"
      },
      "source": [
        "## spaCy"
      ]
    },
    {
      "cell_type": "code",
      "metadata": {
        "id": "aMD06tnI9zZZ"
      },
      "source": [
        "import spacy"
      ],
      "execution_count": 8,
      "outputs": []
    },
    {
      "cell_type": "code",
      "metadata": {
        "id": "wW6xDHWTATV6"
      },
      "source": [
        "nlp = spacy.load('en_core_web_sm')"
      ],
      "execution_count": 9,
      "outputs": []
    },
    {
      "cell_type": "code",
      "metadata": {
        "id": "c24Zpht4AWzt"
      },
      "source": [
        "def get_pos_tag_spacy(text):\n",
        "  text = nlp(text)\n",
        "\n",
        "  pos_tags = [(word.text, word.pos_) for word in text]\n",
        "\n",
        "  return pos_tags"
      ],
      "execution_count": 12,
      "outputs": []
    },
    {
      "cell_type": "code",
      "metadata": {
        "colab": {
          "base_uri": "https://localhost:8080/"
        },
        "id": "0yhKEZ-UAyIY",
        "outputId": "12020595-289c-4eb9-ed57-dcb537286d7d"
      },
      "source": [
        "get_pos_tag_spacy(input_text)"
      ],
      "execution_count": 13,
      "outputs": [
        {
          "output_type": "execute_result",
          "data": {
            "text/plain": [
              "[('Hey', 'INTJ'),\n",
              " ('!', 'PUNCT'),\n",
              " ('how', 'ADV'),\n",
              " ('are', 'AUX'),\n",
              " ('you', 'PRON'),\n",
              " ('?', 'PUNCT'),\n",
              " ('are', 'AUX'),\n",
              " ('you', 'PRON'),\n",
              " ('doing', 'VERB'),\n",
              " ('good', 'ADJ'),\n",
              " ('?', 'PUNCT')]"
            ]
          },
          "metadata": {},
          "execution_count": 13
        }
      ]
    },
    {
      "cell_type": "code",
      "metadata": {
        "id": "CRFf1uuuA0wJ"
      },
      "source": [
        ""
      ],
      "execution_count": null,
      "outputs": []
    }
  ]
}