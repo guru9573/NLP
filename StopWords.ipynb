{
  "nbformat": 4,
  "nbformat_minor": 0,
  "metadata": {
    "colab": {
      "name": "StopWords.ipynb",
      "provenance": [],
      "collapsed_sections": []
    },
    "kernelspec": {
      "name": "python3",
      "display_name": "Python 3"
    },
    "language_info": {
      "name": "python"
    }
  },
  "cells": [
    {
      "cell_type": "markdown",
      "metadata": {
        "id": "G6k7hGQ_YOml"
      },
      "source": [
        "## Stop Words"
      ]
    },
    {
      "cell_type": "markdown",
      "metadata": {
        "id": "osczOPwxaenQ"
      },
      "source": [
        "### nltk"
      ]
    },
    {
      "cell_type": "code",
      "metadata": {
        "id": "19BYpS93YLdH"
      },
      "source": [
        "import nltk\n",
        "\n",
        "from nltk.corpus import stopwords\n",
        "from nltk.tokenize import word_tokenize"
      ],
      "execution_count": 17,
      "outputs": []
    },
    {
      "cell_type": "code",
      "metadata": {
        "colab": {
          "base_uri": "https://localhost:8080/"
        },
        "id": "XFPTUwgdYhG1",
        "outputId": "8fd117fd-e9b2-4f46-f41c-637ecd2e4088"
      },
      "source": [
        "nltk.download('stopwords')\n",
        "nltk.download('punkt')"
      ],
      "execution_count": 18,
      "outputs": [
        {
          "output_type": "stream",
          "text": [
            "[nltk_data] Downloading package stopwords to /root/nltk_data...\n",
            "[nltk_data]   Package stopwords is already up-to-date!\n",
            "[nltk_data] Downloading package punkt to /root/nltk_data...\n",
            "[nltk_data]   Package punkt is already up-to-date!\n"
          ],
          "name": "stdout"
        },
        {
          "output_type": "execute_result",
          "data": {
            "text/plain": [
              "True"
            ]
          },
          "metadata": {},
          "execution_count": 18
        }
      ]
    },
    {
      "cell_type": "code",
      "metadata": {
        "id": "wOR52ZGxYl1c"
      },
      "source": [
        "def remove_stopwords_nltk(text):\n",
        "  stop_words_english = set(stopwords.words('english'))\n",
        "  tokens = word_tokenize(text)\n",
        "\n",
        "  filtered_text = [word for word in tokens if not word in stop_words_english]\n",
        "\n",
        "  return filtered_text"
      ],
      "execution_count": 19,
      "outputs": []
    },
    {
      "cell_type": "code",
      "metadata": {
        "colab": {
          "base_uri": "https://localhost:8080/"
        },
        "id": "Cnw01HlIZGW7",
        "outputId": "87c791f5-874c-4041-f36d-a4499573ff77"
      },
      "source": [
        "input_text = \"SpaceX is an American aerospace manufacturer, space transportation services and communications company headquartered in Hawthorne, California\"\n",
        "\n",
        "remove_stopwords_nltk(input_text)"
      ],
      "execution_count": 20,
      "outputs": [
        {
          "output_type": "execute_result",
          "data": {
            "text/plain": [
              "['SpaceX',\n",
              " 'American',\n",
              " 'aerospace',\n",
              " 'manufacturer',\n",
              " ',',\n",
              " 'space',\n",
              " 'transportation',\n",
              " 'services',\n",
              " 'communications',\n",
              " 'company',\n",
              " 'headquartered',\n",
              " 'Hawthorne',\n",
              " ',',\n",
              " 'California']"
            ]
          },
          "metadata": {},
          "execution_count": 20
        }
      ]
    },
    {
      "cell_type": "markdown",
      "metadata": {
        "id": "jTAL2qMUasjQ"
      },
      "source": [
        "### spacy"
      ]
    },
    {
      "cell_type": "code",
      "metadata": {
        "id": "7CODi9FtZ3oS"
      },
      "source": [
        "import spacy"
      ],
      "execution_count": 21,
      "outputs": []
    },
    {
      "cell_type": "code",
      "metadata": {
        "id": "0L4iOpfNbS-G"
      },
      "source": [
        "sp = spacy.load('en_core_web_sm')"
      ],
      "execution_count": 22,
      "outputs": []
    },
    {
      "cell_type": "code",
      "metadata": {
        "id": "QOdIaLqFcuyu"
      },
      "source": [
        "def remove_stopwords_spacy(text):\n",
        "  stop_words_english = sp.Defaults.stop_words\n",
        "  tokens = word_tokenize(text)\n",
        "\n",
        "  filtered_text = [word for word in tokens if not word in stop_words_english]\n",
        "\n",
        "  return filtered_text"
      ],
      "execution_count": 23,
      "outputs": []
    },
    {
      "cell_type": "code",
      "metadata": {
        "colab": {
          "base_uri": "https://localhost:8080/"
        },
        "id": "TMZNc9tLc69T",
        "outputId": "d90254b5-c4fc-46c1-ee79-3b993be36cb5"
      },
      "source": [
        "input_text = \"SpaceX is an American aerospace manufacturer, space transportation services and communications company headquartered in Hawthorne, California\"\n",
        "\n",
        "remove_stopwords_spacy(input_text)"
      ],
      "execution_count": 24,
      "outputs": [
        {
          "output_type": "execute_result",
          "data": {
            "text/plain": [
              "['SpaceX',\n",
              " 'American',\n",
              " 'aerospace',\n",
              " 'manufacturer',\n",
              " ',',\n",
              " 'space',\n",
              " 'transportation',\n",
              " 'services',\n",
              " 'communications',\n",
              " 'company',\n",
              " 'headquartered',\n",
              " 'Hawthorne',\n",
              " ',',\n",
              " 'California']"
            ]
          },
          "metadata": {},
          "execution_count": 24
        }
      ]
    },
    {
      "cell_type": "code",
      "metadata": {
        "id": "vyTLPQHsdFH4"
      },
      "source": [
        ""
      ],
      "execution_count": null,
      "outputs": []
    }
  ]
}