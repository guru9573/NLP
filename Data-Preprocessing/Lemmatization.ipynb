{
  "nbformat": 4,
  "nbformat_minor": 0,
  "metadata": {
    "colab": {
      "name": "Lemmatization.ipynb",
      "provenance": [],
      "collapsed_sections": []
    },
    "kernelspec": {
      "name": "python3",
      "display_name": "Python 3"
    },
    "language_info": {
      "name": "python"
    }
  },
  "cells": [
    {
      "cell_type": "markdown",
      "metadata": {
        "id": "OY-breLM3CNM"
      },
      "source": [
        "# Lemmatization\n",
        "\n",
        "Lemmatization is related to stemming but it is an advanced form of Stemming. It ensures that root word belongs to the language. Therefore we will get valid base or root words.\n",
        "\n",
        "### Stemming vs Lemmatization\n",
        "Stemming might not result in actual word, whereas lemmatization does conversion properly with the use of vocabulary, normally aiming to remove inflectional endings only and to return the base or dictionary form of a word, which is known as the lemma."
      ]
    },
    {
      "cell_type": "code",
      "metadata": {
        "id": "pmJdqdKM29TH"
      },
      "source": [
        "import nltk\n",
        "from nltk.tokenize import word_tokenize\n",
        "from nltk.stem import WordNetLemmatizer\n",
        "from nltk import pos_tag"
      ],
      "execution_count": 30,
      "outputs": []
    },
    {
      "cell_type": "code",
      "metadata": {
        "colab": {
          "base_uri": "https://localhost:8080/"
        },
        "id": "8KXPUU-f47VH",
        "outputId": "92fdd384-ba0c-4853-9895-fc28e154aee8"
      },
      "source": [
        "nltk.download('punkt')\n",
        "nltk.download('wordnet')\n",
        "nltk.download('averaged_perceptron_tagger')"
      ],
      "execution_count": 32,
      "outputs": [
        {
          "output_type": "stream",
          "text": [
            "[nltk_data] Downloading package punkt to /root/nltk_data...\n",
            "[nltk_data]   Package punkt is already up-to-date!\n",
            "[nltk_data] Downloading package wordnet to /root/nltk_data...\n",
            "[nltk_data]   Package wordnet is already up-to-date!\n",
            "[nltk_data] Downloading package averaged_perceptron_tagger to\n",
            "[nltk_data]     /root/nltk_data...\n",
            "[nltk_data]   Unzipping taggers/averaged_perceptron_tagger.zip.\n"
          ],
          "name": "stdout"
        },
        {
          "output_type": "execute_result",
          "data": {
            "text/plain": [
              "True"
            ]
          },
          "metadata": {},
          "execution_count": 32
        }
      ]
    },
    {
      "cell_type": "code",
      "metadata": {
        "id": "riv_uyii4tK3"
      },
      "source": [
        "lemmatizer = WordNetLemmatizer()"
      ],
      "execution_count": 14,
      "outputs": []
    },
    {
      "cell_type": "code",
      "metadata": {
        "id": "rlnUlT-j4NkV"
      },
      "source": [
        "def lemmatize_text(text):\n",
        "  tokens = word_tokenize(text)\n",
        "  lemmas = [lemmatizer.lemmatize(token) for token in tokens]\n",
        "  return lemmas"
      ],
      "execution_count": 15,
      "outputs": []
    },
    {
      "cell_type": "code",
      "metadata": {
        "colab": {
          "base_uri": "https://localhost:8080/"
        },
        "id": "m3gT-8MP5KyN",
        "outputId": "b346a5eb-566c-4e05-b7ae-75b77a87d295"
      },
      "source": [
        "input_text = \"SpaceX is an American aerospace manufacturer, space transportation services and communications company headquartered in Hawthorne, California. It was established by Elon Musk\"\n",
        "\n",
        "lemmatize_text(input_text)"
      ],
      "execution_count": 16,
      "outputs": [
        {
          "output_type": "execute_result",
          "data": {
            "text/plain": [
              "['SpaceX',\n",
              " 'is',\n",
              " 'an',\n",
              " 'American',\n",
              " 'aerospace',\n",
              " 'manufacturer',\n",
              " ',',\n",
              " 'space',\n",
              " 'transportation',\n",
              " 'service',\n",
              " 'and',\n",
              " 'communication',\n",
              " 'company',\n",
              " 'headquartered',\n",
              " 'in',\n",
              " 'Hawthorne',\n",
              " ',',\n",
              " 'California',\n",
              " '.',\n",
              " 'It',\n",
              " 'wa',\n",
              " 'established',\n",
              " 'by',\n",
              " 'Elon',\n",
              " 'Musk']"
            ]
          },
          "metadata": {},
          "execution_count": 16
        }
      ]
    },
    {
      "cell_type": "code",
      "metadata": {
        "id": "AvN6xtiOBKxr"
      },
      "source": [
        "def lemmatize_text_with_pos_tag(text):\n",
        "  lemmas = []\n",
        "  for token, tag in pos_tag(word_tokenize(text)):\n",
        "    pos = tag[0].lower()\n",
        "    if pos not in ['a', 'r', 'n', 'v']:\n",
        "        pos='n'\n",
        "    lemmas.append(lemmatizer.lemmatize(token, pos))\n",
        "  return lemmas"
      ],
      "execution_count": 60,
      "outputs": []
    },
    {
      "cell_type": "code",
      "metadata": {
        "colab": {
          "base_uri": "https://localhost:8080/"
        },
        "id": "Ga1NWwVkBK1a",
        "outputId": "438bb493-6217-45fd-e150-9d3f71d1f259"
      },
      "source": [
        "lemmatize_text_with_pos_tag(input_text)"
      ],
      "execution_count": 62,
      "outputs": [
        {
          "output_type": "execute_result",
          "data": {
            "text/plain": [
              "['SpaceX',\n",
              " 'be',\n",
              " 'an',\n",
              " 'American',\n",
              " 'aerospace',\n",
              " 'manufacturer',\n",
              " ',',\n",
              " 'space',\n",
              " 'transportation',\n",
              " 'service',\n",
              " 'and',\n",
              " 'communication',\n",
              " 'company',\n",
              " 'headquarter',\n",
              " 'in',\n",
              " 'Hawthorne',\n",
              " ',',\n",
              " 'California',\n",
              " '.',\n",
              " 'It',\n",
              " 'be',\n",
              " 'establish',\n",
              " 'by',\n",
              " 'Elon',\n",
              " 'Musk']"
            ]
          },
          "metadata": {},
          "execution_count": 62
        }
      ]
    },
    {
      "cell_type": "markdown",
      "metadata": {
        "id": "WnZcbHbq6ZLz"
      },
      "source": [
        "## spaCy"
      ]
    },
    {
      "cell_type": "code",
      "metadata": {
        "id": "k2jCQSxA5gIm"
      },
      "source": [
        "import spacy"
      ],
      "execution_count": 17,
      "outputs": []
    },
    {
      "cell_type": "code",
      "metadata": {
        "id": "-199aapw6cRU"
      },
      "source": [
        "nlp = spacy.load('en_core_web_sm')"
      ],
      "execution_count": 19,
      "outputs": []
    },
    {
      "cell_type": "code",
      "metadata": {
        "id": "y_5VsJ4_6ibt"
      },
      "source": [
        "def lemmatize_text_spacy(text):\n",
        "  text = nlp(text)\n",
        "  text = [word.lemma_ if word.lemma_ != '-PRON-' else word.text for word in text]\n",
        "  return text"
      ],
      "execution_count": 28,
      "outputs": []
    },
    {
      "cell_type": "code",
      "metadata": {
        "colab": {
          "base_uri": "https://localhost:8080/"
        },
        "id": "hHgTqgB17wpq",
        "outputId": "3af43edd-e482-4e3c-da73-ede04d626e6f"
      },
      "source": [
        "lemmatize_text_spacy(input_text)"
      ],
      "execution_count": 29,
      "outputs": [
        {
          "output_type": "execute_result",
          "data": {
            "text/plain": [
              "['SpaceX',\n",
              " 'be',\n",
              " 'an',\n",
              " 'american',\n",
              " 'aerospace',\n",
              " 'manufacturer',\n",
              " ',',\n",
              " 'space',\n",
              " 'transportation',\n",
              " 'service',\n",
              " 'and',\n",
              " 'communication',\n",
              " 'company',\n",
              " 'headquarter',\n",
              " 'in',\n",
              " 'Hawthorne',\n",
              " ',',\n",
              " 'California',\n",
              " '.',\n",
              " 'It',\n",
              " 'be',\n",
              " 'establish',\n",
              " 'by',\n",
              " 'Elon',\n",
              " 'Musk']"
            ]
          },
          "metadata": {},
          "execution_count": 29
        }
      ]
    },
    {
      "cell_type": "code",
      "metadata": {
        "id": "LgCTcpp_7zNu"
      },
      "source": [
        ""
      ],
      "execution_count": null,
      "outputs": []
    }
  ]
}