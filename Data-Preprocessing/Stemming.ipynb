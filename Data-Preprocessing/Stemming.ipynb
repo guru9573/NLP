{
  "nbformat": 4,
  "nbformat_minor": 0,
  "metadata": {
    "colab": {
      "name": "Stemming.ipynb",
      "provenance": [],
      "collapsed_sections": []
    },
    "kernelspec": {
      "name": "python3",
      "display_name": "Python 3"
    },
    "language_info": {
      "name": "python"
    }
  },
  "cells": [
    {
      "cell_type": "markdown",
      "metadata": {
        "id": "wD1kymkdj1wG"
      },
      "source": [
        "## Stemming\n",
        "\n",
        "* Stemming is the process of removing suffix from word to obtain base or root word i.e., to reduce inflectional form of word to base word.\n",
        "* Stemming will chop-off ‘s’, ‘es’, ‘ed’, ‘ing’, ‘ly’ etc from the end of the words and sometimes the conversion is not desirable. But nonetheless, stemming helps us in standardizing text."
      ]
    },
    {
      "cell_type": "markdown",
      "metadata": {
        "id": "Ln-vZZSlk8os"
      },
      "source": [
        "## nltk"
      ]
    },
    {
      "cell_type": "code",
      "metadata": {
        "id": "GK59HEkljeNf"
      },
      "source": [
        "import nltk\n",
        "\n",
        "from nltk.stem import PorterStemmer, SnowballStemmer, LancasterStemmer\n",
        "from nltk.tokenize import word_tokenize"
      ],
      "execution_count": 13,
      "outputs": []
    },
    {
      "cell_type": "code",
      "metadata": {
        "colab": {
          "base_uri": "https://localhost:8080/"
        },
        "id": "CUd7mv-GkuYj",
        "outputId": "ab546e1e-a0bb-43ca-9eef-8352277d0fa6"
      },
      "source": [
        "nltk.download('punkt')"
      ],
      "execution_count": 14,
      "outputs": [
        {
          "output_type": "stream",
          "text": [
            "[nltk_data] Downloading package punkt to /root/nltk_data...\n",
            "[nltk_data]   Package punkt is already up-to-date!\n"
          ],
          "name": "stdout"
        },
        {
          "output_type": "execute_result",
          "data": {
            "text/plain": [
              "True"
            ]
          },
          "metadata": {},
          "execution_count": 14
        }
      ]
    },
    {
      "cell_type": "markdown",
      "metadata": {
        "id": "jkw2SUJHrT8e"
      },
      "source": [
        "#### Porter Stemmer\n",
        "\n",
        "This is one of the most common and gentle stemmer. It is very fast but not precise enough.\n"
      ]
    },
    {
      "cell_type": "code",
      "metadata": {
        "id": "MYO6PuejkDoY"
      },
      "source": [
        "porter_stemmer = PorterStemmer()"
      ],
      "execution_count": 15,
      "outputs": []
    },
    {
      "cell_type": "code",
      "metadata": {
        "id": "RAErRp0TkIZX"
      },
      "source": [
        "def stem_words_porter(text):\n",
        "  words = word_tokenize(text)\n",
        "\n",
        "  stem_words = [stemmer.stem(word) for word in words]\n",
        "\n",
        "  return stem_words"
      ],
      "execution_count": 16,
      "outputs": []
    },
    {
      "cell_type": "code",
      "metadata": {
        "colab": {
          "base_uri": "https://localhost:8080/"
        },
        "id": "nfImLipbkeFe",
        "outputId": "be227f3d-a26f-42ab-e6af-26c906d62293"
      },
      "source": [
        "input_text = \"SpaceX is an American aerospace manufacturer, space transportation services and communications company headquartered in Hawthorne, California. It was established by Elon Musk\"\n",
        "\n",
        "stem_words_porter(input_text)"
      ],
      "execution_count": 29,
      "outputs": [
        {
          "output_type": "execute_result",
          "data": {
            "text/plain": [
              "['spacex',\n",
              " 'is',\n",
              " 'an',\n",
              " 'american',\n",
              " 'aerospac',\n",
              " 'manufactur',\n",
              " ',',\n",
              " 'space',\n",
              " 'transport',\n",
              " 'servic',\n",
              " 'and',\n",
              " 'commun',\n",
              " 'compani',\n",
              " 'headquart',\n",
              " 'in',\n",
              " 'hawthorn',\n",
              " ',',\n",
              " 'california',\n",
              " '.',\n",
              " 'It',\n",
              " 'wa',\n",
              " 'establish',\n",
              " 'by',\n",
              " 'elon',\n",
              " 'musk']"
            ]
          },
          "metadata": {},
          "execution_count": 29
        }
      ]
    },
    {
      "cell_type": "markdown",
      "metadata": {
        "id": "zB8eAxBvsJXv"
      },
      "source": [
        "#### Snowball Stemmer\n",
        "\n",
        "* There were some improvements done on Porter Stemmer which made it more precise over large datasets\n",
        "\n",
        "* One feature of Snowball Stemmer is that it will ignore stemming of Stopwords"
      ]
    },
    {
      "cell_type": "code",
      "metadata": {
        "id": "PCAnI630miEi"
      },
      "source": [
        "snowball_stemmer = SnowballStemmer(language=\"english\")"
      ],
      "execution_count": 30,
      "outputs": []
    },
    {
      "cell_type": "code",
      "metadata": {
        "id": "VHUrOTdHmcAy"
      },
      "source": [
        "def stem_words_snowball(text):\n",
        "  words = word_tokenize(text)\n",
        "\n",
        "  stem_words = [snowball_stemmer.stem(word) for word in words]\n",
        "\n",
        "  return stem_words"
      ],
      "execution_count": 31,
      "outputs": []
    },
    {
      "cell_type": "code",
      "metadata": {
        "colab": {
          "base_uri": "https://localhost:8080/"
        },
        "id": "9UNhsNMCm-O6",
        "outputId": "f17e03c4-89e6-4e48-f826-5ab34b980dcc"
      },
      "source": [
        "stem_words_snowball(input_text)"
      ],
      "execution_count": 32,
      "outputs": [
        {
          "output_type": "execute_result",
          "data": {
            "text/plain": [
              "['spacex',\n",
              " 'is',\n",
              " 'an',\n",
              " 'american',\n",
              " 'aerospac',\n",
              " 'manufactur',\n",
              " ',',\n",
              " 'space',\n",
              " 'transport',\n",
              " 'servic',\n",
              " 'and',\n",
              " 'communic',\n",
              " 'compani',\n",
              " 'headquart',\n",
              " 'in',\n",
              " 'hawthorn',\n",
              " ',',\n",
              " 'california',\n",
              " '.',\n",
              " 'it',\n",
              " 'was',\n",
              " 'establish',\n",
              " 'by',\n",
              " 'elon',\n",
              " 'musk']"
            ]
          },
          "metadata": {},
          "execution_count": 32
        }
      ]
    },
    {
      "cell_type": "markdown",
      "metadata": {
        "id": "TJoe-_aUtky_"
      },
      "source": [
        "You can see \"was\" is handled well by Snowball Stemmer compared to PorterStemmer."
      ]
    },
    {
      "cell_type": "markdown",
      "metadata": {
        "id": "EQEeitDUuVWm"
      },
      "source": [
        "#### Lancaster Stemmer\n",
        "* This very aggressive Stemmer and will hugely trim down the vocabulary\n",
        "* It is fast but not quite advisable as the base word will not be much accurate"
      ]
    },
    {
      "cell_type": "code",
      "metadata": {
        "id": "_n04CkOxnUlw"
      },
      "source": [
        "lancaster = LancasterStemmer()"
      ],
      "execution_count": 24,
      "outputs": []
    },
    {
      "cell_type": "code",
      "metadata": {
        "id": "TC5K4Asum-R8"
      },
      "source": [
        "def stem_words_lancaster(text):\n",
        "  words = word_tokenize(text)\n",
        "\n",
        "  stem_words = [lancaster.stem(word) for word in words]\n",
        "\n",
        "  return stem_words"
      ],
      "execution_count": 27,
      "outputs": []
    },
    {
      "cell_type": "code",
      "metadata": {
        "colab": {
          "base_uri": "https://localhost:8080/"
        },
        "id": "5L-1hUeVnTmH",
        "outputId": "1a1685a5-b8ad-473a-8960-c9e32d817ff6"
      },
      "source": [
        "stem_words_lancaster(input_text)"
      ],
      "execution_count": 28,
      "outputs": [
        {
          "output_type": "execute_result",
          "data": {
            "text/plain": [
              "['spacex',\n",
              " 'is',\n",
              " 'an',\n",
              " 'am',\n",
              " 'aerospac',\n",
              " 'manufact',\n",
              " ',',\n",
              " 'spac',\n",
              " 'transport',\n",
              " 'serv',\n",
              " 'and',\n",
              " 'commun',\n",
              " 'company',\n",
              " 'headquart',\n",
              " 'in',\n",
              " 'hawthorn',\n",
              " ',',\n",
              " 'californ']"
            ]
          },
          "metadata": {},
          "execution_count": 28
        }
      ]
    },
    {
      "cell_type": "markdown",
      "metadata": {
        "id": "LSwWK0eZlCgv"
      },
      "source": [
        "### spacy\n",
        "\n",
        "It might be surprising to you but spaCy doesn't contain any function for stemming as it relies on lemmatization only."
      ]
    },
    {
      "cell_type": "markdown",
      "metadata": {
        "id": "_9fgdQzJsyt5"
      },
      "source": [
        "\n",
        "Problems with Stemming\n",
        "\n",
        "***Ex:*** Root word of **services** will be given as **servic** which is not correct as shown in example"
      ]
    }
  ]
}